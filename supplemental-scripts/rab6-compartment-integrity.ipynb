{
 "cells": [
  {
   "cell_type": "code",
   "execution_count": null,
   "metadata": {},
   "outputs": [],
   "source": [
    "import os\n",
    "import pandas as pd\n",
    "import matplotlib.pyplot as plt\n",
    "import seaborn as sns\n",
    "import openpyxl\n",
    "\n",
    "if not os.getcwd().endswith('frm2'):\n",
    "    os.chdir('..')\n",
    "\n",
    "cwd = os.getcwd()\n",
    "print(cwd)"
   ]
  },
  {
   "cell_type": "code",
   "execution_count": null,
   "metadata": {},
   "outputs": [],
   "source": [
    "# Read in the data\n",
    "csv_path = \"results/.csv/rab6-compartment-integrity.csv\"\n",
    "data = pd.read_csv(csv_path)\n"
   ]
  },
  {
   "cell_type": "code",
   "execution_count": null,
   "metadata": {},
   "outputs": [],
   "source": [
    "# Create DataFrame\n",
    "df = pd.DataFrame(data)\n",
    "# Rename treatment column header to 'Treatment'\n",
    "df = df.rename(columns={'treatment': 'Treatment'})\n",
    "\n",
    "# Rename treatment values\n",
    "df['Treatment'] = df['Treatment'].replace({'minusiaa': 'Control', 'plusiaa': 'FRM2-KD'})\n",
    "df"
   ]
  },
  {
   "cell_type": "code",
   "execution_count": null,
   "metadata": {},
   "outputs": [],
   "source": [
    "# Calculate the percentage of True vs False for 'intact?' for each Treatment\n",
    "percentage_df = df.groupby('Treatment')['intact?'].value_counts(normalize=True).unstack() * 100\n",
    "percentage_df = percentage_df.round(2)\n",
    "\n",
    "# Rename columns to ['Fragmented', 'Intact']\n",
    "percentage_df.columns = ['Fragmented', 'Intact']\n",
    "\n",
    "# Replace NaN with 0\n",
    "percentage_df = percentage_df.fillna(0)\n",
    "\n",
    "# Reorder columns to have 'Intact' first\n",
    "percentage_df = percentage_df[['Intact', 'Fragmented']]\n",
    "\n",
    "# Ensure `Treatment` is part of the data and calculate the total count (n) of each treatment group from the original DataFrame\n",
    "total_count_df = df['Treatment'].value_counts()\n",
    "\n",
    "# Combine percentage and total count dataframes\n",
    "result_df = percentage_df.join(total_count_df.rename('Number of vacuoles'))\n",
    "\n",
    "# Display result\n",
    "print(result_df)\n",
    "\n",
    "# Style the DataFrame\n",
    "styled_df = result_df.style.format({\n",
    "    'Intact': '{:.2f}%',\n",
    "    'Fragmented': '{:.2f}%',\n",
    "    'Number of vacuoles': '{:,.0f}'\n",
    "}).set_caption(\"Table: Percentage of Intact and Fragmented Vacuoles per Treatment\") \\\n",
    "  .set_table_styles([\n",
    "      {'selector': 'caption', 'props': [('font-size', '14pt'), ('font-weight', 'bold')]},\n",
    "      {'selector': 'th', 'props': [('font-size', '12pt'), ('text-align', 'center'), ('border', '1px solid black')]},\n",
    "      {'selector': 'td', 'props': [('font-size', '12pt'), ('text-align', 'center'), ('border', '1px solid black')]},\n",
    "      {'selector': 'table', 'props': [('border-collapse', 'collapse')]}  # Add border-collapse to merge borders\n",
    "  ])\n",
    "\n",
    "\n",
    "# Save the DataFrame to an Excel file\n",
    "result_df.to_excel(\"results/.xlsx/frm2-aid_rab6-compartment-integrity.xlsx\", sheet_name=\"Table\")\n"
   ]
  }
 ],
 "metadata": {
  "kernelspec": {
   "display_name": "Python 3",
   "language": "python",
   "name": "python3"
  },
  "language_info": {
   "codemirror_mode": {
    "name": "ipython",
    "version": 3
   },
   "file_extension": ".py",
   "mimetype": "text/x-python",
   "name": "python",
   "nbconvert_exporter": "python",
   "pygments_lexer": "ipython3",
   "version": "3.11.9"
  }
 },
 "nbformat": 4,
 "nbformat_minor": 2
}
